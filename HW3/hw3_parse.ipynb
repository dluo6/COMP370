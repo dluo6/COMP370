{
 "cells": [
  {
   "cell_type": "code",
   "execution_count": 68,
   "id": "9d28066f-31ef-46a6-9608-d9824d1183d8",
   "metadata": {},
   "outputs": [
    {
     "name": "stdout",
     "output_type": "stream",
     "text": [
      "Length:  36859\n"
     ]
    }
   ],
   "source": [
    "import pandas as pd\n",
    "import re\n",
    "\n",
    "df = pd.read_csv(\"HW3/clean_dialog.csv\")\n",
    "print(\"Length: \", len(df))\n"
   ]
  },
  {
   "cell_type": "code",
   "execution_count": 109,
   "id": "c9394494-96bb-419b-b7a8-1e293918e2bc",
   "metadata": {},
   "outputs": [
    {
     "name": "stdout",
     "output_type": "stream",
     "text": [
      "hello 355      Twilight Sparkle and Rainbow Dash\n",
      "2678                       All sans Rarity\n",
      "2687                       All sans Rarity\n",
      "2732                     All except Rarity\n",
      "2734                     All except Rarity\n",
      "                       ...                \n",
      "36194                                  All\n",
      "36438                                  All\n",
      "36849                                  All\n",
      "36851                                  All\n",
      "36853                                  All\n",
      "Name: pony, Length: 117, dtype: object\n"
     ]
    }
   ],
   "source": [
    "# |([^sans|except|but]*Twliight.*)\n",
    "all 3 discords\n",
    "df['Twilight_mention'] = df.apply(lambda row: \"T\" if re.match(r\"(?i)(all|main cast)|Twilight(?!(all|main cast) .* Twilight)\", row.pony) else \"F\", axis=1)\n",
    "temp = (df.loc[(df['Twilight_mention'] == \"T\") & (df['pony'] != \"Twilight Sparkle\")]['pony'])\n",
    "print(\"hello\", temp)\n",
    "temp.to_csv(\"results.tsv\", sep=\"\\t\", index=False)\n"
   ]
  },
  {
   "cell_type": "code",
   "execution_count": 50,
   "id": "fce9c9c3-7c9c-42d6-b5c6-176ecea29dc0",
   "metadata": {},
   "outputs": [],
   "source": [
    "# df.to_csv(\"dataset.tsv\", sep=\"\\t\", index=False)\n",
    "\n",
    "# contains = df.loc[(df['trump_mention'] == 'T')]\n",
    "# print(contains)\n",
    "# print(len(contains), len(df))\n",
    "# data = {\"result\": [\"frac-trump-mentions\"], \"value\": [round(len(contains)/len(df), 3)]}\n",
    "# result = pd.DataFrame(data=data)\n",
    "# print(result)\n",
    "\n",
    "# result.to_csv(\"results.tsv\", sep=\"\\t\", index=False)"
   ]
  },
  {
   "cell_type": "code",
   "execution_count": null,
   "id": "8f499679-0263-40f7-9194-cc6cd3008161",
   "metadata": {},
   "outputs": [],
   "source": []
  }
 ],
 "metadata": {
  "kernelspec": {
   "display_name": "Python 3 (ipykernel)",
   "language": "python",
   "name": "python3"
  },
  "language_info": {
   "codemirror_mode": {
    "name": "ipython",
    "version": 3
   },
   "file_extension": ".py",
   "mimetype": "text/x-python",
   "name": "python",
   "nbconvert_exporter": "python",
   "pygments_lexer": "ipython3",
   "version": "3.12.1"
  }
 },
 "nbformat": 4,
 "nbformat_minor": 5
}
